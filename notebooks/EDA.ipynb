{
 "cells": [
  {
   "cell_type": "markdown",
   "id": "9978ee8c",
   "metadata": {},
   "source": [
    "# Exploratory Data Analysis (EDA)\n",
    "\n",
    "This notebook explores the Credit Card Fraud Detection dataset."
   ]
  },
  {
   "cell_type": "code",
   "execution_count": null,
   "id": "4382ab45",
   "metadata": {},
   "outputs": [],
   "source": [
    "import pandas as pd\n",
    "import numpy as np\n",
    "import matplotlib.pyplot as plt\n",
    "from sklearn.linear_model import LogisticRegression\n",
    "from sklearn.model_selection import train_test_split\n",
    "from sklearn.metrics import precision_recall_curve, average_precision_score\n"
   ]
  },
  {
   "cell_type": "code",
   "execution_count": null,
   "id": "56ae590f",
   "metadata": {},
   "outputs": [],
   "source": [
    "df = pd.read_csv('../data/creditcard.csv')\n",
    "df.head()"
   ]
  },
  {
   "cell_type": "code",
   "execution_count": null,
   "id": "136d4770",
   "metadata": {},
   "outputs": [],
   "source": [
    "class_counts = df['Class'].value_counts()\n",
    "class_counts.plot(kind='bar', title='Class Distribution')\n",
    "plt.xlabel('Class (0=Non-Fraud, 1=Fraud)')\n",
    "plt.ylabel('Count')\n",
    "plt.show()\n",
    "print(class_counts / len(df))"
   ]
  },
  {
   "cell_type": "code",
   "execution_count": null,
   "id": "0c3ed169",
   "metadata": {},
   "outputs": [],
   "source": [
    "corrs = df.corr(numeric_only=True)['Class'].abs().sort_values(ascending=False)\n",
    "corrs[1:6]  # skip 'Class' itself"
   ]
  },
  {
   "cell_type": "code",
   "execution_count": null,
   "id": "8c8aad54",
   "metadata": {},
   "outputs": [],
   "source": [
    "X = df.drop('Class', axis=1)\n",
    "y = df['Class']\n",
    "X_train, X_test, y_train, y_test = train_test_split(X, y, test_size=0.3, stratify=y, random_state=42)\n",
    "clf = LogisticRegression(max_iter=200, solver='liblinear')\n",
    "clf.fit(X_train, y_train)\n",
    "y_score = clf.predict_proba(X_test)[:,1]\n",
    "precision, recall, _ = precision_recall_curve(y_test, y_score)\n",
    "pr_auc = average_precision_score(y_test, y_score)\n",
    "plt.plot(recall, precision, label=f'PR curve (AUC={pr_auc:.3f})')\n",
    "plt.xlabel('Recall')\n",
    "plt.ylabel('Precision')\n",
    "plt.title('Precision-Recall Curve (Logistic Regression)')\n",
    "plt.legend()\n",
    "plt.show()"
   ]
  },
  {
   "cell_type": "code",
   "execution_count": null,
   "id": "35f1ed24",
   "metadata": {},
   "outputs": [],
   "source": [
    "# Feature summary\n",
    "df.describe().T"
   ]
  }
 ],
 "metadata": {
  "language_info": {
   "name": "python"
  }
 },
 "nbformat": 4,
 "nbformat_minor": 5
}
